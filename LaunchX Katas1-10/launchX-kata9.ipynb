{
 "cells": [
  {
   "cell_type": "code",
   "execution_count": 9,
   "metadata": {},
   "outputs": [
    {
     "name": "stdout",
     "output_type": "stream",
     "text": [
      "Reporte Combustible:\n",
      " Promedio: 78.33333333333333%\n",
      " Tanque A: 80%\n",
      " Tanque B: 70%\n",
      " Tanque C: 85% \n",
      "\n"
     ]
    }
   ],
   "source": [
    "def reporte(tanque_a, tanque_b, tanque_c):\n",
    "    promedio = (tanque_a + tanque_b + tanque_c) / 3\n",
    "    return f\"Reporte Combustible:\\n Promedio: {promedio}%\\n Tanque A: {tanque_a}%\\n Tanque B: {tanque_b}%\\n Tanque C: {tanque_c}% \\n\"\n",
    "\n",
    "print(reporte(80, 70, 85))"
   ]
  },
  {
   "cell_type": "code",
   "execution_count": 22,
   "metadata": {},
   "outputs": [
    {
     "name": "stdout",
     "output_type": "stream",
     "text": [
      "Reporte Combustible:\n",
      " Promedio: 78.0%\n",
      " Tanque A: 88%\n",
      " Tanque B: 76%\n",
      " Tanque C: 70% \n",
      "\n"
     ]
    }
   ],
   "source": [
    "def promedio(values):\n",
    "    total = sum(values)\n",
    "    numero_de_tanques = len(values)\n",
    "    return total / numero_de_tanques\n",
    "promedio([80, 85, 81])\n",
    "\n",
    "def reporte(tanque_a, tanque_b, tanque_c):\n",
    "    return f\"Reporte Combustible:\\n Promedio: {promedio([tanque_a, tanque_b, tanque_c])}%\\n Tanque A: {tanque_a}%\\n Tanque B: {tanque_b}%\\n Tanque C: {tanque_c}% \\n\"\n",
    "\n",
    "print(reporte(88, 76, 70))"
   ]
  },
  {
   "cell_type": "code",
   "execution_count": 23,
   "metadata": {},
   "outputs": [
    {
     "name": "stdout",
     "output_type": "stream",
     "text": [
      "Destino: Moon \n",
      " Tiempo total de vuelo: 65 minutos \n",
      " Total combustible restante: 500000 galones\n"
     ]
    }
   ],
   "source": [
    "def reporte_mision(hora_prelanzamiento, tiempo_vuelo, destino, tanque_externo, tanque_interno):\n",
    "    return f\"Destino: {destino} \\n Tiempo total de vuelo: {hora_prelanzamiento + tiempo_vuelo} minutos \\n Total combustible restante: {tanque_externo + tanque_interno} galones\"\n",
    "\n",
    "print(reporte_mision(14, 51, \"Moon\", 200000, 300000))"
   ]
  },
  {
   "cell_type": "code",
   "execution_count": 28,
   "metadata": {},
   "outputs": [
    {
     "name": "stdout",
     "output_type": "stream",
     "text": [
      "Destino: Moon \n",
      "Tiempo total de vuelo: 76 minutos \n",
      "Total combustible restante: 500000 galones\n"
     ]
    }
   ],
   "source": [
    "def reporte_mision(destino, *minutos, **reservas):\n",
    "    return f\"Destino: {destino} \\nTiempo total de vuelo: {sum(minutos)} minutos \\nTotal combustible restante: {sum(reservas.values())} galones\"\n",
    "\n",
    "print(reporte_mision(\"Moon\", 10, 15, 51, main=300000, external=200000))\n"
   ]
  },
  {
   "cell_type": "code",
   "execution_count": 40,
   "metadata": {},
   "outputs": [
    {
     "name": "stdout",
     "output_type": "stream",
     "text": [
      "Destino: Moon \n",
      "Tiempo total de vuelo: 74 minutos \n",
      "Total combustible restante: 500000 galonesmain tanque --> 300000 galones restantes\n",
      "\n"
     ]
    }
   ],
   "source": [
    "def reporte_mision(destino, *minutos, **reservas):\n",
    "    reporte_nuevo = f\"Destino: {destino} \\nTiempo total de vuelo: {sum(minutos)} minutos \\nTotal combustible restante: {sum(reservas.values())} galones\"\n",
    "\n",
    "    for nombre_tanque, galones in reservas.items():\n",
    "        reporte_nuevo += f\"{nombre_tanque} tanque --> {galones} galones restantes\\n\"\n",
    "        return reporte_nuevo\n",
    "\n",
    "print(reporte_mision(\"Moon\", 8, 11, 55, main=300000, external=200000))"
   ]
  }
 ],
 "metadata": {
  "interpreter": {
   "hash": "207fb7707e2d047e1bb21f349e7eb8af32030360e68b63299ce73ac337894e3a"
  },
  "kernelspec": {
   "display_name": "Python 3.10.2 64-bit (windows store)",
   "language": "python",
   "name": "python3"
  },
  "language_info": {
   "codemirror_mode": {
    "name": "ipython",
    "version": 3
   },
   "file_extension": ".py",
   "mimetype": "text/x-python",
   "name": "python",
   "nbconvert_exporter": "python",
   "pygments_lexer": "ipython3",
   "version": "3.10.2"
  },
  "orig_nbformat": 4
 },
 "nbformat": 4,
 "nbformat_minor": 2
}
