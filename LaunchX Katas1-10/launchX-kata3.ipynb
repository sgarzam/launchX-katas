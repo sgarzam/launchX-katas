{
 "cells": [
  {
   "cell_type": "code",
   "execution_count": 3,
   "metadata": {},
   "outputs": [
    {
     "name": "stdout",
     "output_type": "stream",
     "text": [
      "Advertencia! Asteroide acercándose a la Tierra demasiado rápido.\n"
     ]
    }
   ],
   "source": [
    "vel_asteroide = 49\n",
    "if vel_asteroide > 25:\n",
    "    print(\"Advertencia! Asteroide acercándose a la Tierra demasiado rápido.\")\n",
    "else:\n",
    "    print(\"Sin novedades\")"
   ]
  },
  {
   "cell_type": "code",
   "execution_count": 6,
   "metadata": {},
   "outputs": [
    {
     "name": "stdout",
     "output_type": "stream",
     "text": [
      "Sin novedades luminosas\n"
     ]
    }
   ],
   "source": [
    "vel_asteroide = 19\n",
    "if vel_asteroide >= 20:\n",
    "    print(\"Mira, una luz en el cielo!\")\n",
    "else:\n",
    "    print(\"Sin novedades luminosas\")"
   ]
  },
  {
   "cell_type": "code",
   "execution_count": 24,
   "metadata": {},
   "outputs": [
    {
     "name": "stdout",
     "output_type": "stream",
     "text": [
      "Advertencia! Asteroide peligroso acercándose a la Tierra demasiado rápido\n"
     ]
    }
   ],
   "source": [
    "vel_asteroide = 50\n",
    "dim_asteroide = 50\n",
    "if vel_asteroide > 25 and dim_asteroide > 25:\n",
    "    print(\"Advertencia! Asteroide peligroso acercándose a la Tierra demasiado rápido\")\n",
    "elif vel_asteroide > 25 or dim_asteroide > 25: \n",
    "    print(\"Advertencia! Asteroide acercándose a la Tierra\")\n",
    "elif vel_asteroide >= 20:\n",
    "    print(\"Mira, una luz en el cielo!\")\n",
    "else:\n",
    "    print(\"Sin novedades\")"
   ]
  }
 ],
 "metadata": {
  "interpreter": {
   "hash": "207fb7707e2d047e1bb21f349e7eb8af32030360e68b63299ce73ac337894e3a"
  },
  "kernelspec": {
   "display_name": "Python 3.10.2 64-bit (windows store)",
   "language": "python",
   "name": "python3"
  },
  "language_info": {
   "codemirror_mode": {
    "name": "ipython",
    "version": 3
   },
   "file_extension": ".py",
   "mimetype": "text/x-python",
   "name": "python",
   "nbconvert_exporter": "python",
   "pygments_lexer": "ipython3",
   "version": "3.10.2"
  },
  "orig_nbformat": 4
 },
 "nbformat": 4,
 "nbformat_minor": 2
}
