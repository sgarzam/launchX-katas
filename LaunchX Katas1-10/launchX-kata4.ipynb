{
 "cells": [
  {
   "cell_type": "code",
   "execution_count": 5,
   "metadata": {},
   "outputs": [
    {
     "name": "stdout",
     "output_type": "stream",
     "text": [
      "\n",
      "On average, the Moon moves 4cm away from the Earth every year\n",
      "The highest daylight temperature of the Moon is 127 C.\n",
      "\n",
      "On average, the Moon moves 4cm away from the Earth every year\n",
      "The highest daylight temperature of the Moon is 127 Celsius.\n"
     ]
    }
   ],
   "source": [
    "text = \"\"\"Interesting facts about the Moon. The Moon is Earth's only satellite. There are several interesting facts about the Moon and how it affects life here on Earth. \n",
    "On average, the Moon moves 4cm away from the Earth every year. This yearly drift is not significant enough to cause immediate effects on Earth. The highest daylight temperature of the Moon is 127 C.\"\"\"\n",
    "\n",
    "text_parts = text.split('. ')\n",
    "text_parts\n",
    "\n",
    "key_words = [\"average\", \"temperature\", \"distance\"]\n",
    "key_words\n",
    "\n",
    "for sentence in text_parts:\n",
    "    for key_word in key_words:\n",
    "        if key_word in sentence:\n",
    "            print(sentence)\n",
    "            break\n",
    "\n",
    "for sentence in text_parts:\n",
    "    for key_word in key_words:\n",
    "        if key_word in sentence:\n",
    "            print(sentence.replace(' C', ' Celsius'))\n",
    "            break"
   ]
  },
  {
   "cell_type": "code",
   "execution_count": 44,
   "metadata": {},
   "outputs": [
    {
     "name": "stdout",
     "output_type": "stream",
     "text": [
      "Gravity Facts about Moon.\n",
      " ------------------------------------------------------------.\n",
      " Planet name: Earth.\n",
      " Gravity in Moon: 1.6199999999999999 m/s2.\n",
      "Gravity Facts about Moon.\n",
      " ------------------------------------------------------------.\n",
      " Planet name: Earth.\n",
      " Gravity in Moon: 1.6199999999999999 m/s2.\n",
      "Gravity Facts about Mars.\n",
      " ------------------------------------------------------------.\n",
      " Planet name: Ganymede.\n",
      " Gravity in Mars: 1.4300000000000002 m/s2.\n"
     ]
    }
   ],
   "source": [
    "name = \"Moon\"\n",
    "gravity = 0.00162 # kms\n",
    "planet = \"Earth\"\n",
    "\n",
    "title = f\"Gravity Facts about {name}\"\n",
    "title\n",
    "\n",
    "facts = f\"{'-'*60}.\\n Planet name: {planet}.\\n Gravity in {name}: {gravity * 1000} m/s2.\"\n",
    "\n",
    "template = f\"{title}.\\n {facts}\"\n",
    "print(template)\n",
    "\n",
    "name = \"Mars\"\n",
    "gravity = 0.00143 # kms\n",
    "planet = \"Ganymede\"\n",
    "print(template)\n",
    "\n",
    "new_template = \"Gravity Facts about {name}.\\n ------------------------------------------------------------.\\n Planet name: {planet}.\\n Gravity in {name}: {gravity} m/s2.\"\n",
    "print(new_template.format(name=name, planet=planet, gravity=gravity*1000))"
   ]
  }
 ],
 "metadata": {
  "interpreter": {
   "hash": "207fb7707e2d047e1bb21f349e7eb8af32030360e68b63299ce73ac337894e3a"
  },
  "kernelspec": {
   "display_name": "Python 3.10.2 64-bit (windows store)",
   "language": "python",
   "name": "python3"
  },
  "language_info": {
   "codemirror_mode": {
    "name": "ipython",
    "version": 3
   },
   "file_extension": ".py",
   "mimetype": "text/x-python",
   "name": "python",
   "nbconvert_exporter": "python",
   "pygments_lexer": "ipython3",
   "version": "3.10.2"
  },
  "orig_nbformat": 4
 },
 "nbformat": 4,
 "nbformat_minor": 2
}
