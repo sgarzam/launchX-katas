{
 "cells": [
  {
   "cell_type": "code",
   "execution_count": 8,
   "metadata": {},
   "outputs": [
    {
     "data": {
      "text/plain": [
       "390577534"
      ]
     },
     "execution_count": 8,
     "metadata": {},
     "output_type": "execute_result"
    }
   ],
   "source": [
    "tierra = 149597870 # in kms\n",
    "jupiter = 778547200 # in kms\n",
    "\n",
    "distancia_entre_planetas = jupiter - tierra\n",
    "distancia_entre_planetas\n",
    "\n",
    "distancia_mi = round(distancia_entre_planetas * 0.621)\n",
    "distancia_mi\n"
   ]
  },
  {
   "cell_type": "code",
   "execution_count": 11,
   "metadata": {},
   "outputs": [
    {
     "data": {
      "text/plain": [
       "31236300.0"
      ]
     },
     "execution_count": 11,
     "metadata": {},
     "output_type": "execute_result"
    }
   ],
   "source": [
    "planeta_uno = input(\"Escribe la distancia desde el sol al primer planeta (en Km)\")\n",
    "planeta_dos =  input(\"Escribe la distancia desde el sol al segundo planeta (en Km)\")\n",
    "\n",
    "planeta_uno = int(planeta_uno)\n",
    "planeta_dos =  int(planeta_dos)\n",
    "\n",
    "distancia_entre_planetas = abs(planeta_uno - planeta_dos)\n",
    "distancia_mi = distancia_entre_planetas * 0.621\n",
    "distancia_mi"
   ]
  }
 ],
 "metadata": {
  "interpreter": {
   "hash": "207fb7707e2d047e1bb21f349e7eb8af32030360e68b63299ce73ac337894e3a"
  },
  "kernelspec": {
   "display_name": "Python 3.10.2 64-bit (windows store)",
   "language": "python",
   "name": "python3"
  },
  "language_info": {
   "codemirror_mode": {
    "name": "ipython",
    "version": 3
   },
   "file_extension": ".py",
   "mimetype": "text/x-python",
   "name": "python",
   "nbconvert_exporter": "python",
   "pygments_lexer": "ipython3",
   "version": "3.10.2"
  },
  "orig_nbformat": 4
 },
 "nbformat": 4,
 "nbformat_minor": 2
}
